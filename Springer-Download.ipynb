{
 "cells": [
  {
   "cell_type": "code",
   "execution_count": 3,
   "metadata": {},
   "outputs": [],
   "source": [
    "#!/usr/bin/env python\n",
    "import requests\n",
    "import lxml.html as lh\n",
    "import pandas as pd\n",
    "import wget\n",
    "import os\n",
    "import ipywidgets as widgets\n",
    "from IPython.display import display\n",
    "\n",
    "#i need to install os from the env.yml but dont know how"
   ]
  },
  {
   "cell_type": "code",
   "execution_count": 4,
   "metadata": {},
   "outputs": [],
   "source": [
    "spread_url='https://docs.google.com/spreadsheets/d/1HzdumNltTj2SHmCv3SRdoub8SvpIEn75fa4Q23x0keU/htmlview'\n",
    "spreadsheet = requests.get(spread_url)\n",
    "df = pd.read_html(spreadsheet.content,skiprows=1,encoding='utf8')[0]\n",
    "df = df.drop(0 , 0)\n",
    "df = df.drop('1' , 1)\n",
    "df = df.rename(columns={'Book Title' : 'BookTitle' , 'English Package Name' : 'Science' , 'OpenURL' : 'URL'})"
   ]
  },
  {
   "cell_type": "code",
   "execution_count": 5,
   "metadata": {},
   "outputs": [],
   "source": [
    "class Category():\n",
    "\n",
    "    def __init__(self,category,BASE_DIR='.'):\n",
    "        self.category = category\n",
    "        self.BASE_DIR=BASE_DIR\n",
    "\n",
    "    def mkdir(self):\n",
    "        folder_name = '{base_dir}/{category}'.format(base_dir=self.BASE_DIR, category=self.category)\n",
    "        if not os.path.exists(folder_name):\n",
    "            os.makedirs(folder_name)\n",
    "        self.cat_dir=folder_name\n",
    "        return self.cat_dir\n",
    "    \n",
    "    \n",
    "    def download(self):\n",
    "        cat_dir= self.cat_dir\n",
    "        BASE_DIR=self.BASE_DIR\n",
    "        subset = df[df.Science == self.category]\n",
    "        links = subset.URL\n",
    "        names = subset.BookTitle.tolist()\n",
    "        dl_links = []\n",
    "        i=1\n",
    "        for link,name in zip(links,names):\n",
    "            strip_link=link[-17:]\n",
    "            url='https://link.springer.com/content/pdf/10.1007%2F{codigo_libro}.pdf'\n",
    "            dl_link = url.format(codigo_libro = strip_link)\n",
    "            pdf = requests.get(dl_link)\n",
    "            pdf_name = '{base_dir}/{cat_dir}/{name}.pdf'.format(cat_dir=cat_dir, name=name, base_dir=BASE_DIR)\n",
    "            open(pdf_name, 'wb').write(pdf.content)\n",
    "            print('Downloaded ', i , ' of ', len(subset))\n",
    "            i = i+1\n",
    "#        except:\n",
    "#            print(\"Error downloading: {cat_dir} - {name}\".format(cat_dir=cat_dir, name=name))"
   ]
  },
  {
   "cell_type": "markdown",
   "metadata": {},
   "source": [
    "#Select categories to download and then press the 'Download' button#"
   ]
  },
  {
   "cell_type": "code",
   "execution_count": 7,
   "metadata": {
    "scrolled": true
   },
   "outputs": [
    {
     "name": "stdout",
     "output_type": "stream",
     "text": [
      "Select categories to download:\n",
      "\n"
     ]
    },
    {
     "data": {
      "application/vnd.jupyter.widget-view+json": {
       "model_id": "31bf1936037e41518f65339cd038120e",
       "version_major": 2,
       "version_minor": 0
      },
      "text/plain": [
       "Checkbox(value=False, description='Behavioral Science')"
      ]
     },
     "metadata": {},
     "output_type": "display_data"
    },
    {
     "data": {
      "application/vnd.jupyter.widget-view+json": {
       "model_id": "72e08c4c64be40948cd04bdaa8272403",
       "version_major": 2,
       "version_minor": 0
      },
      "text/plain": [
       "Checkbox(value=False, description='Behavioral Science and Psychology')"
      ]
     },
     "metadata": {},
     "output_type": "display_data"
    },
    {
     "data": {
      "application/vnd.jupyter.widget-view+json": {
       "model_id": "b47f67bb83e54373a3646ae0fc8e282e",
       "version_major": 2,
       "version_minor": 0
      },
      "text/plain": [
       "Checkbox(value=False, description='Biomedical and Life Sciences')"
      ]
     },
     "metadata": {},
     "output_type": "display_data"
    },
    {
     "data": {
      "application/vnd.jupyter.widget-view+json": {
       "model_id": "43b6d09253754a9db6f65737ea8cfe35",
       "version_major": 2,
       "version_minor": 0
      },
      "text/plain": [
       "Checkbox(value=False, description='Business and Economics')"
      ]
     },
     "metadata": {},
     "output_type": "display_data"
    },
    {
     "data": {
      "application/vnd.jupyter.widget-view+json": {
       "model_id": "694ef07484714cb29f75128bf5a0f60c",
       "version_major": 2,
       "version_minor": 0
      },
      "text/plain": [
       "Checkbox(value=False, description='Business and Management')"
      ]
     },
     "metadata": {},
     "output_type": "display_data"
    },
    {
     "data": {
      "application/vnd.jupyter.widget-view+json": {
       "model_id": "d968d13131f24238a47b08195df68d8c",
       "version_major": 2,
       "version_minor": 0
      },
      "text/plain": [
       "Checkbox(value=False, description='Chemistry and Materials Science')"
      ]
     },
     "metadata": {},
     "output_type": "display_data"
    },
    {
     "data": {
      "application/vnd.jupyter.widget-view+json": {
       "model_id": "4264e413a9f74f34887299d19f04dae1",
       "version_major": 2,
       "version_minor": 0
      },
      "text/plain": [
       "Checkbox(value=False, description='Computer Science')"
      ]
     },
     "metadata": {},
     "output_type": "display_data"
    },
    {
     "data": {
      "application/vnd.jupyter.widget-view+json": {
       "model_id": "9be04ba715434523bc9c5c933789e4d5",
       "version_major": 2,
       "version_minor": 0
      },
      "text/plain": [
       "Checkbox(value=False, description='Earth and Environmental Science')"
      ]
     },
     "metadata": {},
     "output_type": "display_data"
    },
    {
     "data": {
      "application/vnd.jupyter.widget-view+json": {
       "model_id": "47cdd50575a3401c9993efc9205d7cec",
       "version_major": 2,
       "version_minor": 0
      },
      "text/plain": [
       "Checkbox(value=False, description='Economics and Finance')"
      ]
     },
     "metadata": {},
     "output_type": "display_data"
    },
    {
     "data": {
      "application/vnd.jupyter.widget-view+json": {
       "model_id": "821668fb9b194b2bbc053b008f4c56e8",
       "version_major": 2,
       "version_minor": 0
      },
      "text/plain": [
       "Checkbox(value=False, description='Education')"
      ]
     },
     "metadata": {},
     "output_type": "display_data"
    },
    {
     "data": {
      "application/vnd.jupyter.widget-view+json": {
       "model_id": "450b569a09064719840a8758eeed890b",
       "version_major": 2,
       "version_minor": 0
      },
      "text/plain": [
       "Checkbox(value=False, description='Energy')"
      ]
     },
     "metadata": {},
     "output_type": "display_data"
    },
    {
     "data": {
      "application/vnd.jupyter.widget-view+json": {
       "model_id": "80037d3b31ed4616bf4ca4b83241847c",
       "version_major": 2,
       "version_minor": 0
      },
      "text/plain": [
       "Checkbox(value=False, description='Engineering')"
      ]
     },
     "metadata": {},
     "output_type": "display_data"
    },
    {
     "data": {
      "application/vnd.jupyter.widget-view+json": {
       "model_id": "16e51abb1e77406b8cb3422fafb8014c",
       "version_major": 2,
       "version_minor": 0
      },
      "text/plain": [
       "Checkbox(value=False, description='Humanities, Social Sciences and Law')"
      ]
     },
     "metadata": {},
     "output_type": "display_data"
    },
    {
     "data": {
      "application/vnd.jupyter.widget-view+json": {
       "model_id": "90677d5c7e1e48aab1bde32b5251b2b5",
       "version_major": 2,
       "version_minor": 0
      },
      "text/plain": [
       "Checkbox(value=False, description='Intelligent Technologies and Robotics')"
      ]
     },
     "metadata": {},
     "output_type": "display_data"
    },
    {
     "data": {
      "application/vnd.jupyter.widget-view+json": {
       "model_id": "fcfe65f645e34ff98e0c887decded682",
       "version_major": 2,
       "version_minor": 0
      },
      "text/plain": [
       "Checkbox(value=False, description='Law and Criminology')"
      ]
     },
     "metadata": {},
     "output_type": "display_data"
    },
    {
     "data": {
      "application/vnd.jupyter.widget-view+json": {
       "model_id": "d6cbd2792d3246678d18cb2a57b6e808",
       "version_major": 2,
       "version_minor": 0
      },
      "text/plain": [
       "Checkbox(value=False, description='Literature, Cultural and Media Studies')"
      ]
     },
     "metadata": {},
     "output_type": "display_data"
    },
    {
     "data": {
      "application/vnd.jupyter.widget-view+json": {
       "model_id": "e12020eedb6448abbc19b389cf6f55b8",
       "version_major": 2,
       "version_minor": 0
      },
      "text/plain": [
       "Checkbox(value=False, description='Mathematics and Statistics')"
      ]
     },
     "metadata": {},
     "output_type": "display_data"
    },
    {
     "data": {
      "application/vnd.jupyter.widget-view+json": {
       "model_id": "2f13802b8ade4a598bfb95dcd5ee4686",
       "version_major": 2,
       "version_minor": 0
      },
      "text/plain": [
       "Checkbox(value=False, description='Medicine')"
      ]
     },
     "metadata": {},
     "output_type": "display_data"
    },
    {
     "data": {
      "application/vnd.jupyter.widget-view+json": {
       "model_id": "0fb6e25a5e004edebc7e49285113b034",
       "version_major": 2,
       "version_minor": 0
      },
      "text/plain": [
       "Checkbox(value=False, description='Physics and Astronomy')"
      ]
     },
     "metadata": {},
     "output_type": "display_data"
    },
    {
     "data": {
      "application/vnd.jupyter.widget-view+json": {
       "model_id": "10408ab24f8a45758840d5a777e96441",
       "version_major": 2,
       "version_minor": 0
      },
      "text/plain": [
       "Checkbox(value=False, description='Religion and Philosophy')"
      ]
     },
     "metadata": {},
     "output_type": "display_data"
    },
    {
     "data": {
      "application/vnd.jupyter.widget-view+json": {
       "model_id": "0011bd770863478e9af52cda82d69da0",
       "version_major": 2,
       "version_minor": 0
      },
      "text/plain": [
       "Checkbox(value=False, description='Social Sciences')"
      ]
     },
     "metadata": {},
     "output_type": "display_data"
    },
    {
     "data": {
      "application/vnd.jupyter.widget-view+json": {
       "model_id": "d2f113786b5f4f258143e0950f768040",
       "version_major": 2,
       "version_minor": 0
      },
      "text/plain": [
       "Button(description='Download', icon='arrow-down', style=ButtonStyle(), tooltip='Download selected categories')"
      ]
     },
     "metadata": {},
     "output_type": "display_data"
    },
    {
     "name": "stdout",
     "output_type": "stream",
     "text": [
      "Staring download of Economics and Finance\n",
      "Downloaded  1  of  5\n",
      "Downloaded  2  of  5\n",
      "Downloaded  3  of  5\n",
      "Downloaded  4  of  5\n",
      "Downloaded  5  of  5\n"
     ]
    }
   ],
   "source": [
    "list_of_topics = df.Science.unique().tolist()\n",
    "widgets.Text(value='.', disabled=False)\n",
    "print('Select categories to download:\\n')\n",
    "\n",
    "cb={}\n",
    "for topic in list_of_topics:\n",
    "    cb[\"{top}\".format(top=topic)] = widgets.Checkbox(options=list_of_topics,description=topic)\n",
    "    display(cb[\"{top}\".format(top=topic)])\n",
    "#Conectar boton a crear lista a partir de los seleccionados, instanciacion de categorias\n",
    "\n",
    "dl_button=widgets.Button(description='Download', disabled=False, button_style='', tooltip='Download selected categories',icon='arrow-down')\n",
    "\n",
    "def clickety(b):\n",
    "    for x,y in cb.items():\n",
    "        if y.value == True:\n",
    "            print('Staring download of {it}'.format(it=x))\n",
    "            category = Category(x)\n",
    "            category.mkdir()\n",
    "            category.download()\n",
    "    \n",
    "dl_button.on_click(clickety)\n",
    "display(dl_button)\n"
   ]
  },
  {
   "cell_type": "code",
   "execution_count": null,
   "metadata": {},
   "outputs": [],
   "source": []
  }
 ],
 "metadata": {
  "kernelspec": {
   "display_name": "Python 3",
   "language": "python",
   "name": "python3"
  },
  "language_info": {
   "codemirror_mode": {
    "name": "ipython",
    "version": 3
   },
   "file_extension": ".py",
   "mimetype": "text/x-python",
   "name": "python",
   "nbconvert_exporter": "python",
   "pygments_lexer": "ipython3",
   "version": "3.7.6"
  }
 },
 "nbformat": 4,
 "nbformat_minor": 4
}
