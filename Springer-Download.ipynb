{
 "cells": [
  {
   "cell_type": "code",
   "execution_count": 2,
   "metadata": {},
   "outputs": [],
   "source": [
    "#!/usr/bin/env python\n",
    "import requests\n",
    "import lxml.html as lh\n",
    "import pandas as pd\n",
    "import wget\n",
    "import os\n",
    "import ipywidgets as widgets\n",
    "from IPython.display import display\n",
    "\n",
    "#i need to install os from the env.yml but dont know how"
   ]
  },
  {
   "cell_type": "code",
   "execution_count": 3,
   "metadata": {},
   "outputs": [],
   "source": [
    "spread_url='https://docs.google.com/spreadsheets/d/1HzdumNltTj2SHmCv3SRdoub8SvpIEn75fa4Q23x0keU/htmlview'\n",
    "spreadsheet = requests.get(spread_url)\n",
    "df = pd.read_html(spreadsheet.content,skiprows=1,encoding='utf8')[0]\n",
    "df = df.drop(0 , 0)\n",
    "df = df.drop('1' , 1)\n",
    "df = df.rename(columns={'Book Title' : 'BookTitle' , 'English Package Name' : 'Science' , 'OpenURL' : 'URL'})"
   ]
  },
  {
   "cell_type": "code",
   "execution_count": 68,
   "metadata": {},
   "outputs": [],
   "source": [
    "class Category():\n",
    "\n",
    "    def __init__(self,category,BASE_DIR='.'):\n",
    "        self.category = category\n",
    "        self.BASE_DIR=BASE_DIR\n",
    "\n",
    "    def mkdir(self):\n",
    "        folder_name = '{base_dir}/{category}'.format(base_dir=self.BASE_DIR, category=self.category)\n",
    "        if not os.path.exists(folder_name):\n",
    "            os.makedirs(folder_name)\n",
    "        self.cat_dir=folder_name\n",
    "        return self.cat_dir\n",
    "    \n",
    "    \n",
    "    def download(self):\n",
    "        cat_dir= self.cat_dir\n",
    "        BASE_DIR=self.BASE_DIR\n",
    "        subset = df[df.Science == self.category]\n",
    "        links = subset.URL\n",
    "        names = subset.BookTitle.tolist()\n",
    "        dl_links = []\n",
    "        i=1\n",
    "        for link,name in zip(links,names):\n",
    "            strip_link=link[-17:]\n",
    "            url='https://link.springer.com/content/pdf/10.1007%2F{codigo_libro}.pdf'\n",
    "            dl_link = url.format(codigo_libro = strip_link)\n",
    "            pdf = requests.get(dl_link)\n",
    "            pdf_name = '{base_dir}/{cat_dir}/{name}.pdf'.format(cat_dir=cat_dir, name=name, base_dir=BASE_DIR)\n",
    "            open(pdf_name, 'wb').write(pdf.content)\n",
    "            print('Downloaded ', i , ' of ', len(subset))\n",
    "            i = i+1\n",
    "#        except:\n",
    "#            print(\"Error downloading: {cat_dir} - {name}\".format(cat_dir=cat_dir, name=name))"
   ]
  },
  {
   "cell_type": "markdown",
   "metadata": {},
   "source": [
    "#Select categories to download and then press the 'Download' button#"
   ]
  },
  {
   "cell_type": "code",
   "execution_count": 69,
   "metadata": {},
   "outputs": [
    {
     "name": "stdout",
     "output_type": "stream",
     "text": [
      "Select categories to download:\n",
      "\n"
     ]
    },
    {
     "data": {
      "application/vnd.jupyter.widget-view+json": {
       "model_id": "0a16a68082b84a9f8265b7ce68dce064",
       "version_major": 2,
       "version_minor": 0
      },
      "text/plain": [
       "Checkbox(value=False, description='Behavioral Science')"
      ]
     },
     "metadata": {},
     "output_type": "display_data"
    },
    {
     "data": {
      "application/vnd.jupyter.widget-view+json": {
       "model_id": "766c8fed1447436fafc525f9d97017a8",
       "version_major": 2,
       "version_minor": 0
      },
      "text/plain": [
       "Checkbox(value=False, description='Behavioral Science and Psychology')"
      ]
     },
     "metadata": {},
     "output_type": "display_data"
    },
    {
     "data": {
      "application/vnd.jupyter.widget-view+json": {
       "model_id": "f1011fb41b884790a9d6ceb69bb0832e",
       "version_major": 2,
       "version_minor": 0
      },
      "text/plain": [
       "Checkbox(value=False, description='Biomedical and Life Sciences')"
      ]
     },
     "metadata": {},
     "output_type": "display_data"
    },
    {
     "data": {
      "application/vnd.jupyter.widget-view+json": {
       "model_id": "2573353da98c422c971fc6a36221f04c",
       "version_major": 2,
       "version_minor": 0
      },
      "text/plain": [
       "Checkbox(value=False, description='Business and Economics')"
      ]
     },
     "metadata": {},
     "output_type": "display_data"
    },
    {
     "data": {
      "application/vnd.jupyter.widget-view+json": {
       "model_id": "eafe7029f2774050986169e6514c1653",
       "version_major": 2,
       "version_minor": 0
      },
      "text/plain": [
       "Checkbox(value=False, description='Business and Management')"
      ]
     },
     "metadata": {},
     "output_type": "display_data"
    },
    {
     "data": {
      "application/vnd.jupyter.widget-view+json": {
       "model_id": "eeb5093226584e40ae2b3e051bf8dea6",
       "version_major": 2,
       "version_minor": 0
      },
      "text/plain": [
       "Checkbox(value=False, description='Chemistry and Materials Science')"
      ]
     },
     "metadata": {},
     "output_type": "display_data"
    },
    {
     "data": {
      "application/vnd.jupyter.widget-view+json": {
       "model_id": "6601a796b2364924a3d10efa619a2d0c",
       "version_major": 2,
       "version_minor": 0
      },
      "text/plain": [
       "Checkbox(value=False, description='Computer Science')"
      ]
     },
     "metadata": {},
     "output_type": "display_data"
    },
    {
     "data": {
      "application/vnd.jupyter.widget-view+json": {
       "model_id": "ba44bed0e7c34e1c81917fd9e0984bb6",
       "version_major": 2,
       "version_minor": 0
      },
      "text/plain": [
       "Checkbox(value=False, description='Earth and Environmental Science')"
      ]
     },
     "metadata": {},
     "output_type": "display_data"
    },
    {
     "data": {
      "application/vnd.jupyter.widget-view+json": {
       "model_id": "81a5900abcba46978a270724630f557e",
       "version_major": 2,
       "version_minor": 0
      },
      "text/plain": [
       "Checkbox(value=False, description='Economics and Finance')"
      ]
     },
     "metadata": {},
     "output_type": "display_data"
    },
    {
     "data": {
      "application/vnd.jupyter.widget-view+json": {
       "model_id": "56b689629f1a41f8acd172f1d3e02291",
       "version_major": 2,
       "version_minor": 0
      },
      "text/plain": [
       "Checkbox(value=False, description='Education')"
      ]
     },
     "metadata": {},
     "output_type": "display_data"
    },
    {
     "data": {
      "application/vnd.jupyter.widget-view+json": {
       "model_id": "b2a982ae6e844efd9d2addc2552601b5",
       "version_major": 2,
       "version_minor": 0
      },
      "text/plain": [
       "Checkbox(value=False, description='Energy')"
      ]
     },
     "metadata": {},
     "output_type": "display_data"
    },
    {
     "data": {
      "application/vnd.jupyter.widget-view+json": {
       "model_id": "abd44a9d05bc480f8acef9bb4e6c49f0",
       "version_major": 2,
       "version_minor": 0
      },
      "text/plain": [
       "Checkbox(value=False, description='Engineering')"
      ]
     },
     "metadata": {},
     "output_type": "display_data"
    },
    {
     "data": {
      "application/vnd.jupyter.widget-view+json": {
       "model_id": "ac0369565a424415aebba6fdd05f70b3",
       "version_major": 2,
       "version_minor": 0
      },
      "text/plain": [
       "Checkbox(value=False, description='Humanities, Social Sciences and Law')"
      ]
     },
     "metadata": {},
     "output_type": "display_data"
    },
    {
     "data": {
      "application/vnd.jupyter.widget-view+json": {
       "model_id": "cdb79303e5ef4734873e7ba1e6fdc68b",
       "version_major": 2,
       "version_minor": 0
      },
      "text/plain": [
       "Checkbox(value=False, description='Intelligent Technologies and Robotics')"
      ]
     },
     "metadata": {},
     "output_type": "display_data"
    },
    {
     "data": {
      "application/vnd.jupyter.widget-view+json": {
       "model_id": "10ed406b860548308691037f7a25e2a8",
       "version_major": 2,
       "version_minor": 0
      },
      "text/plain": [
       "Checkbox(value=False, description='Law and Criminology')"
      ]
     },
     "metadata": {},
     "output_type": "display_data"
    },
    {
     "data": {
      "application/vnd.jupyter.widget-view+json": {
       "model_id": "e1e01f85a8e94a24b7a5792197a0fc20",
       "version_major": 2,
       "version_minor": 0
      },
      "text/plain": [
       "Checkbox(value=False, description='Literature, Cultural and Media Studies')"
      ]
     },
     "metadata": {},
     "output_type": "display_data"
    },
    {
     "data": {
      "application/vnd.jupyter.widget-view+json": {
       "model_id": "de6dcbe5da434201abeb569b216c3795",
       "version_major": 2,
       "version_minor": 0
      },
      "text/plain": [
       "Checkbox(value=False, description='Mathematics and Statistics')"
      ]
     },
     "metadata": {},
     "output_type": "display_data"
    },
    {
     "data": {
      "application/vnd.jupyter.widget-view+json": {
       "model_id": "285410359bc94a669c5a160b90d82a66",
       "version_major": 2,
       "version_minor": 0
      },
      "text/plain": [
       "Checkbox(value=False, description='Medicine')"
      ]
     },
     "metadata": {},
     "output_type": "display_data"
    },
    {
     "data": {
      "application/vnd.jupyter.widget-view+json": {
       "model_id": "074e7dd71144468bb4ff8c681b42afdf",
       "version_major": 2,
       "version_minor": 0
      },
      "text/plain": [
       "Checkbox(value=False, description='Physics and Astronomy')"
      ]
     },
     "metadata": {},
     "output_type": "display_data"
    },
    {
     "data": {
      "application/vnd.jupyter.widget-view+json": {
       "model_id": "5928d854e80a4ef49b8f50ef43c50184",
       "version_major": 2,
       "version_minor": 0
      },
      "text/plain": [
       "Checkbox(value=False, description='Religion and Philosophy')"
      ]
     },
     "metadata": {},
     "output_type": "display_data"
    },
    {
     "data": {
      "application/vnd.jupyter.widget-view+json": {
       "model_id": "77d5449f152e480890c1f80c4d8f5c2e",
       "version_major": 2,
       "version_minor": 0
      },
      "text/plain": [
       "Checkbox(value=False, description='Social Sciences')"
      ]
     },
     "metadata": {},
     "output_type": "display_data"
    },
    {
     "data": {
      "application/vnd.jupyter.widget-view+json": {
       "model_id": "7739ea1fbbc94b5a84f57073058c7b95",
       "version_major": 2,
       "version_minor": 0
      },
      "text/plain": [
       "Button(description='Download', icon='arrow-down', style=ButtonStyle(), tooltip='Download selected categories')"
      ]
     },
     "metadata": {},
     "output_type": "display_data"
    }
   ],
   "source": [
    "list_of_topics = df.Science.unique().tolist()\n",
    "widgets.Text(value='.', disabled=False)\n",
    "print('Select categories to download:\\n')\n",
    "\n",
    "cb={}\n",
    "for topic in list_of_topics:\n",
    "    cb[\"{top}\".format(top=topic)] = widgets.Checkbox(options=list_of_topics,description=topic)\n",
    "    display(cb[\"{top}\".format(top=topic)])\n",
    "#Conectar boton a crear lista a partir de los seleccionados, instanciacion de categorias\n",
    "\n",
    "dl_button=widgets.Button(description='Download', disabled=False, button_style='', tooltip='Download selected categories',icon='arrow-down')\n",
    "\n",
    "def clickety(b):\n",
    "    for x,y in cb.items():\n",
    "        if y.value == True:\n",
    "            print('Staring download of {it}'.format(it=item))\n",
    "            selected_categories.append(x)\n",
    "            category = Category(item)\n",
    "            category.mkdir()\n",
    "            category.download()\n",
    "    \n",
    "dl_button.on_click(clickety)\n",
    "display(dl_button)\n"
   ]
  }
 ],
 "metadata": {
  "kernelspec": {
   "display_name": "Python 3",
   "language": "python",
   "name": "python3"
  },
  "language_info": {
   "codemirror_mode": {
    "name": "ipython",
    "version": 3
   },
   "file_extension": ".py",
   "mimetype": "text/x-python",
   "name": "python",
   "nbconvert_exporter": "python",
   "pygments_lexer": "ipython3",
   "version": "3.7.6"
  }
 },
 "nbformat": 4,
 "nbformat_minor": 4
}
